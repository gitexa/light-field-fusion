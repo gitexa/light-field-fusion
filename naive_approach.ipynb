{
 "cells": [
  {
   "cell_type": "code",
   "execution_count": 1,
   "metadata": {},
   "outputs": [],
   "source": [
    "import torch\n",
    "\n",
    "\n",
    "import processing\n",
    "\n",
    "import get_data\n",
    "\n",
    "import matplotlib.pyplot as plt\n",
    "\n",
    "import numpy as np\n",
    "\n",
    "import os"
   ]
  },
  {
   "cell_type": "code",
   "execution_count": 4,
   "metadata": {},
   "outputs": [],
   "source": [
    "test_scene = 3 # can be 1,2,3\n",
    "# read in the data\n",
    "data_folder   = \"Data/Set\"+str(test_scene)\n",
    "\n",
    "LF            = get_data.read_lightfield(data_folder)\n",
    "param_dict    = get_data.read_parameters(data_folder)\n",
    "depth_map     = get_data.read_depth(data_folder, highres=False)\n",
    "depth_all_map = get_data.read_all_depths(data_folder, highres=False)\n",
    "\n",
    "\n",
    "\n",
    "# convert the data to torch tensors\n",
    "\n",
    "images     = torch.from_numpy(LF).permute([0,1,4,2,3]).float()/255.\n",
    "depth_maps = torch.from_numpy(depth_all_map)"
   ]
  },
  {
   "cell_type": "code",
   "execution_count": 10,
   "metadata": {},
   "outputs": [
    {
     "data": {
      "text/plain": [
       "True"
      ]
     },
     "execution_count": 10,
     "metadata": {},
     "output_type": "execute_result"
    }
   ],
   "source": [
    "# Zusammengefasst:\n",
    "\n",
    "# input : ein bild und zugehörige depth map, layers\n",
    "image = images[3,3]\n",
    "depth = depth_maps[3,3]\n",
    "layers = 8\n",
    "\n",
    "# erzeuge disp tensor \n",
    "disp_tensor = processing.create_disp_tensor(depth, layers)[0]\n",
    "\n",
    "#nehme disp tensor und bild und baue mpi\n",
    "mpi = processing.rgba(image, disp_tensor)\n",
    "\n",
    "#das können wir rekonstruieren\n",
    "reconstruct = processing.back_to_front_alphacomposite(mpi)\n",
    "\n",
    "# gleich?\n",
    "torch.allclose(image, reconstruct[0:3])"
   ]
  },
  {
   "cell_type": "code",
   "execution_count": 12,
   "metadata": {},
   "outputs": [],
   "source": [
    "# jetzt naives rendering:\n",
    "layers = 8\n",
    "\n",
    "#images\n",
    "image1 = images[3,3]\n",
    "depth1 = depth_maps[3,3]\n",
    "\n",
    "image2 = images[7,3]\n",
    "depth2 = depth_maps[7,3]\n",
    "\n",
    "#disp tensors \n",
    "disp_tensor1 = processing.create_disp_tensor(depth1, layers)[0]\n",
    "disp_tensor2 = processing.create_disp_tensor(depth2, layers)[0]\n",
    "\n",
    "#mpis \n",
    "mpi1 = processing.rgba(image1, disp_tensor1)\n",
    "mpi2 = processing.rgba(image2, disp_tensor2)\n",
    "\n",
    "#homography warp auf target pos [5,3]\n",
    "#dafür brauchen wir die ganzen parameter"
   ]
  },
  {
   "cell_type": "code",
   "execution_count": 13,
   "metadata": {},
   "outputs": [],
   "source": [
    "param_dict['baselineMM']=param_dict['baseline_mm']\n",
    "param_dict['focalLength'] = param_dict['focal_length_mm']\n",
    "param_dict['sensorWidthMM'] = param_dict['sensor_size_mm']\n",
    "\n",
    "param_dict['psv_center_1_pose']=[3,3]\n",
    "param_dict['psv_center_2_pose']=[3,7]\n",
    "param_dict['target_image_pose']=[3,5]\n",
    "\n",
    "param_dict['mpi_1_min_disp']=1/depth1.max()\n",
    "param_dict['mpi_2_min_disp']=1/depth2.max()\n",
    "\n",
    "param_dict['mpi_1_bin_size']=((1/depth1).max()-(1/depth1).min())/layers\n",
    "param_dict['mpi_2_bin_size']=((1/depth2).max()-(1/depth2).min())/layers"
   ]
  },
  {
   "cell_type": "code",
   "execution_count": 17,
   "metadata": {},
   "outputs": [],
   "source": [
    "# jetzt der homography warp\n",
    "mpis = torch.stack([mpi1, mpi2], dim=0)\n",
    "target_mpis = processing.homography(mpis, param_dict)\n",
    "\n",
    "# jetzt das alpha compositing\n",
    "\n",
    "rgba1 = processing.back_to_front_alphacomposite(target_mpis[0])\n",
    "rgba2 = processing.back_to_front_alphacomposite(target_mpis[1])\n",
    "\n",
    "# jetzt das rendering als superposition der beiden"
   ]
  },
  {
   "cell_type": "code",
   "execution_count": null,
   "metadata": {},
   "outputs": [],
   "source": []
  }
 ],
 "metadata": {
  "kernelspec": {
   "display_name": "Python 3",
   "language": "python",
   "name": "python3"
  },
  "language_info": {
   "codemirror_mode": {
    "name": "ipython",
    "version": 3
   },
   "file_extension": ".py",
   "mimetype": "text/x-python",
   "name": "python",
   "nbconvert_exporter": "python",
   "pygments_lexer": "ipython3",
   "version": "3.8.3"
  }
 },
 "nbformat": 4,
 "nbformat_minor": 4
}
